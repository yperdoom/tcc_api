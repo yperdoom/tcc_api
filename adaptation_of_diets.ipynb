{
  "cells": [
    {
      "attachments": {},
      "cell_type": "markdown",
      "metadata": {
        "id": "emB554sXMMTB"
      },
      "source": [
        "{1} DEAP. Distributed Evolutionary Algorithms in Python. Disponível em: https://deap.readthedocs.io/en/master/. Acesso em: 1 mar 2021."
      ]
    },
    {
      "cell_type": "code",
      "execution_count": null,
      "metadata": {
        "colab": {
          "base_uri": "https://localhost:8080/"
        },
        "id": "M1San9e6aai3",
        "outputId": "81786ed2-435a-406d-de32-6bedbf6a92c4",
        "vscode": {
          "languageId": "python"
        }
      },
      "outputs": [
        {
          "name": "stdout",
          "output_type": "stream",
          "text": [
            "Collecting deap\n",
            "  Downloading deap-1.3.1-cp37-cp37m-manylinux_2_5_x86_64.manylinux1_x86_64.manylinux_2_12_x86_64.manylinux2010_x86_64.whl (160 kB)\n",
            "\u001b[?25l\r\u001b[K     |██                              | 10 kB 21.3 MB/s eta 0:00:01\r\u001b[K     |████                            | 20 kB 27.3 MB/s eta 0:00:01\r\u001b[K     |██████                          | 30 kB 31.2 MB/s eta 0:00:01\r\u001b[K     |████████▏                       | 40 kB 35.5 MB/s eta 0:00:01\r\u001b[K     |██████████▏                     | 51 kB 37.2 MB/s eta 0:00:01\r\u001b[K     |████████████▏                   | 61 kB 41.3 MB/s eta 0:00:01\r\u001b[K     |██████████████▎                 | 71 kB 32.3 MB/s eta 0:00:01\r\u001b[K     |████████████████▎               | 81 kB 27.0 MB/s eta 0:00:01\r\u001b[K     |██████████████████▎             | 92 kB 28.1 MB/s eta 0:00:01\r\u001b[K     |████████████████████▍           | 102 kB 29.9 MB/s eta 0:00:01\r\u001b[K     |██████████████████████▍         | 112 kB 29.9 MB/s eta 0:00:01\r\u001b[K     |████████████████████████▍       | 122 kB 29.9 MB/s eta 0:00:01\r\u001b[K     |██████████████████████████▌     | 133 kB 29.9 MB/s eta 0:00:01\r\u001b[K     |████████████████████████████▌   | 143 kB 29.9 MB/s eta 0:00:01\r\u001b[K     |██████████████████████████████▌ | 153 kB 29.9 MB/s eta 0:00:01\r\u001b[K     |████████████████████████████████| 160 kB 29.9 MB/s \n",
            "\u001b[?25hRequirement already satisfied: numpy in /usr/local/lib/python3.7/dist-packages (from deap) (1.21.5)\n",
            "Installing collected packages: deap\n",
            "Successfully installed deap-1.3.1\n"
          ]
        }
      ],
      "source": [
        "#[1] Importando pacotes e módulos\n",
        "\n",
        "import random\n",
        "import numpy\n",
        "\n",
        "! pip install deap # Instalação de DEAP\n",
        "from deap import algorithms\n",
        "from deap import base\n",
        "from deap import creator\n",
        "from deap import tools"
      ]
    },
    {
      "attachments": {},
      "cell_type": "markdown",
      "metadata": {
        "id": "fI55ISiXbbQm"
      },
      "source": [
        "#**Seleção e Formulação do Problema** "
      ]
    },
    {
      "cell_type": "code",
      "execution_count": null,
      "metadata": {
        "colab": {
          "base_uri": "https://localhost:8080/"
        },
        "id": "G1o2VJlC-mMI",
        "outputId": "6b658f2c-1d8d-4095-cd4a-8792454eba85",
        "vscode": {
          "languageId": "python"
        }
      },
      "outputs": [
        {
          "name": "stdout",
          "output_type": "stream",
          "text": [
            "Digite o número de cidades: 10\n",
            "Grafo:\n",
            " [[  0  53  74  81  12  73  44  36  56  72]\n",
            " [ 53   0  35  75  20  95  50  91  14  58]\n",
            " [ 74  35   0  16  39  97  62  45  48 100]\n",
            " [ 81  75  16   0  15  38  53  28  99  18]\n",
            " [ 12  20  39  15   0  78  11  79  31  87]\n",
            " [ 73  95  97  38  78   0  19  48  92  51]\n",
            " [ 44  50  62  53  11  19   0 100  29  33]\n",
            " [ 36  91  45  28  79  48 100   0  94  15]\n",
            " [ 56  14  48  99  31  92  29  94   0  11]\n",
            " [ 72  58 100  18  87  51  33  15  11   0]]\n"
          ]
        }
      ],
      "source": [
        "#[2] Geração do grafo para o problema do caixeiro\n",
        "\n",
        "# função graphTSP(numCities, minDist, maxDist)\n",
        "# parâmetros: \n",
        "#   numCities: número de cities\n",
        "#   minDist: menor valor de distância\n",
        "#   maxDist: maior valor de distância\n",
        "# retorno:\n",
        "#   cities: grafo de cidades (Matriz numCities X numCities). As distância \n",
        "#   entre duas cidades são determinadas aleatoriamente entre minDist e maxDist\n",
        "def graphTSP(numCities, minDist, maxDist):\n",
        "  cities = numpy.zeros((numCities, numCities), dtype = int)\n",
        "  for i in range(numCities):\n",
        "    for j in range(numCities):\n",
        "      if (j>i):\n",
        "        cities[i, j] = random.randint(minDist, maxDist)\n",
        "      elif (j<i):\n",
        "        cities[i, j] = cities[j, i]\n",
        "  return cities\n",
        "\n",
        "numCities = 5     #  Número de cidade inicial\n",
        "\n",
        "while(True):\n",
        "  numCities = int(input('Digite o número de cidades: '))\n",
        "  if (numCities > 4):\n",
        "    break\n",
        "  else:\n",
        "    print('O número de cidades deve ser maior que 4!')\n",
        "\n",
        "cities = graphTSP(numCities, 10, 100)\n",
        "print('Grafo:\\n', cities)"
      ]
    },
    {
      "attachments": {},
      "cell_type": "markdown",
      "metadata": {
        "id": "ZK8W-fLgBjLr"
      },
      "source": [
        "# **População e Indivíduos**"
      ]
    },
    {
      "cell_type": "code",
      "execution_count": null,
      "metadata": {
        "id": "wfwLGOdnG-EJ",
        "vscode": {
          "languageId": "python"
        }
      },
      "outputs": [],
      "source": [
        "#[3] Definição da Geração dos Indivíduos\n",
        "\n",
        "creator.create(\"FitnessMin\", base.Fitness, weights=(-1.0,)) # minimizar = peso negativo \n",
        "creator.create(\"Individual\", list, fitness=creator.FitnessMin)\n",
        "\n",
        "toolbox = base.Toolbox()\n",
        "# gerador de parâmetros \n",
        "toolbox.register(\"attr_int\", random.randint, 0, numCities-1)\n",
        "\n",
        "# define como os indivíduos/população é gerada\n",
        "toolbox.register(\"individual\", tools.initRepeat, creator.Individual, toolbox.attr_int, numCities)\n",
        "toolbox.register(\"population\", tools.initRepeat, list, toolbox.individual)"
      ]
    },
    {
      "attachments": {},
      "cell_type": "markdown",
      "metadata": {
        "id": "3GNerpXDRHvY"
      },
      "source": [
        "#**Avaliação da Aptidão**"
      ]
    },
    {
      "cell_type": "code",
      "execution_count": null,
      "metadata": {
        "id": "Xj10GoxwRGg4",
        "vscode": {
          "languageId": "python"
        }
      },
      "outputs": [],
      "source": [
        "#[4] Função para a avaliação da aptidão\n",
        "\n",
        "# Função evalRoute(individual)\n",
        "# parâmetros:\n",
        "#   individual: uma rota\n",
        "# retorno:\n",
        "#   (cost, ): tupla contendo apenas o custo da rota (cost).\n",
        "#             * precisa ser uma tupla devido a exigências do pacote DEAP \n",
        "def evalRoute(individual):\n",
        "  cost = 0\n",
        "  for i in range(1, len(individual)):\n",
        "    if (individual.count(individual[i])>1):\n",
        "      cost = cost + 1000000 # penalidade por repetir cidade\n",
        "    cost = cost + cities[individual[i-1], individual[i]]        \n",
        "  cost = cost + cities[individual[i],individual[0]]\n",
        "  return (cost,)"
      ]
    },
    {
      "attachments": {},
      "cell_type": "markdown",
      "metadata": {
        "id": "_IVtotAVT8AH"
      },
      "source": [
        "#**Processamento do Algoritmo Genético**\n",
        "\n",
        "> **Gerações**\n",
        "* A cada iteração do algoritmo, um novo conjunto de indivíduos é gerado a partir da população anterior.\n",
        "* Cada novo conjunto é chamado de “Geração”.\n",
        "* Através da criação de uma grande quantidade de gerações que é possível obter resultados dos Algoritmos Genéticos.\n",
        "\n",
        ">**Avaliação de Aptidão**\n",
        "* A função de aptidão é aplicada ao fenótipo do indivíduo.\n",
        "\n",
        ">**Seleção**\n",
        "* Selecionar os indivíduos sobre os quais serão aplicados os operadores genéticos.\n",
        "* Escolhe preferencialmente, embora não exclusivamente, indivíduos com maior aptidão. \n",
        "* Há diversas técnicas de seleção, entre elas há o método de seleção por Roleta e o método de seleção por Torneio.\n",
        "\n",
        ">**Cruzamento**\n",
        "* Também conhecida por Crossover ou Recombinação.\n",
        "* Recombinação de características dos pais (Figura 2).\n",
        "  * Permite que as próximas gerações herdem essas características.\n",
        "* Escolhe dois indivíduos e troca trechos dos cromossomos entre eles.\n",
        "\n",
        ">**Mutação**\n",
        "* Introdução e manutenção da diversidade genética.\n",
        "* Altera aleatoriamente um ou mais genes no cromossomo (Figura 3).\n",
        "\n",
        "\n"
      ]
    },
    {
      "cell_type": "code",
      "execution_count": null,
      "metadata": {
        "colab": {
          "base_uri": "https://localhost:8080/"
        },
        "id": "xVlSENgQUOUR",
        "outputId": "22869589-42f1-45fa-efa6-e0e5388662f2",
        "vscode": {
          "languageId": "python"
        }
      },
      "outputs": [
        {
          "name": "stdout",
          "output_type": "stream",
          "text": [
            "Execução do algoritmo genético:\n",
            "gen\tnevals\tavg         \tstd               \tmin       \tmax       \n",
            "0  \t50    \t[5580483.06]\t[1312835.03206635]\t[3000430.]\t[8000540.]\n",
            "1  \t100   \t[4340493.06]\t[1193404.68264002]\t[1000664.]\t[7000297.]\n",
            "2  \t100   \t[3460531.5] \t[853404.87015168] \t[1000664.]\t[5000459.]\n",
            "3  \t100   \t[3180513.42]\t[993716.58832587] \t[1000664.]\t[5000512.]\n",
            "4  \t100   \t[2660543.5] \t[1012085.52424076]\t[1000612.]\t[5000619.]\n",
            "5  \t100   \t[2260512.94]\t[912275.37668567] \t[1000518.]\t[4000391.]\n",
            "6  \t100   \t[1940536.44]\t[881045.53133593] \t[1000518.]\t[4000422.]\n",
            "7  \t100   \t[1560559.22]\t[697341.35323476] \t[1000612.]\t[3000568.]\n",
            "8  \t100   \t[1220597.9] \t[501524.84535402] \t[1000612.]\t[3000318.]\n",
            "9  \t100   \t[1080609.52]\t[439979.08780933] \t[1000531.]\t[4000479.]\n",
            "10 \t100   \t[1000610.98]\t[4.03727631]      \t[1000595.]\t[1000612.]\n",
            "11 \t100   \t[960609.62] \t[195961.95965931] \t[596.]    \t[1000612.]\n",
            "12 \t100   \t[940604.88] \t[237489.08536761] \t[596.]    \t[1000612.]\n",
            "13 \t100   \t[940596.8]  \t[237487.04397874] \t[596.]    \t[1000612.]\n",
            "14 \t100   \t[840593.22] \t[366604.84233672] \t[596.]    \t[1000595.]\n",
            "15 \t100   \t[760589.34] \t[427079.38753481] \t[596.]    \t[1000595.]\n",
            "16 \t100   \t[520589.26] \t[499593.36430897] \t[596.]    \t[1000595.]\n",
            "17 \t100   \t[240592.02] \t[427076.04761988] \t[596.]    \t[1000584.]\n",
            "18 \t100   \t[60594.]    \t[237478.9255801]  \t[596.]    \t[1000579.]\n",
            "19 \t100   \t[596.]      \t[0.]              \t[596.]    \t[596.]    \n",
            "20 \t100   \t[596.]      \t[0.]              \t[596.]    \t[596.]    \n",
            "21 \t100   \t[596.]      \t[0.]              \t[596.]    \t[596.]    \n",
            "22 \t100   \t[596.]      \t[0.]              \t[596.]    \t[596.]    \n",
            "23 \t100   \t[596.]      \t[0.]              \t[596.]    \t[596.]    \n",
            "24 \t100   \t[596.]      \t[0.]              \t[596.]    \t[596.]    \n",
            "25 \t100   \t[596.]      \t[0.]              \t[596.]    \t[596.]    \n",
            "26 \t100   \t[596.]      \t[0.]              \t[596.]    \t[596.]    \n",
            "27 \t100   \t[596.]      \t[0.]              \t[596.]    \t[596.]    \n",
            "28 \t100   \t[40594.9]   \t[279992.3]        \t[596.]    \t[2000541.]\n",
            "29 \t100   \t[596.]      \t[0.]              \t[596.]    \t[596.]    \n",
            "30 \t100   \t[596.]      \t[0.]              \t[596.]    \t[596.]    \n",
            "31 \t100   \t[596.]      \t[0.]              \t[596.]    \t[596.]    \n",
            "32 \t100   \t[596.]      \t[0.]              \t[596.]    \t[596.]    \n",
            "33 \t100   \t[596.]      \t[0.]              \t[596.]    \t[596.]    \n",
            "34 \t100   \t[596.]      \t[0.]              \t[596.]    \t[596.]    \n",
            "35 \t100   \t[596.]      \t[0.]              \t[596.]    \t[596.]    \n",
            "36 \t100   \t[596.]      \t[0.]              \t[596.]    \t[596.]    \n",
            "37 \t100   \t[596.]      \t[0.]              \t[596.]    \t[596.]    \n",
            "38 \t100   \t[596.]      \t[0.]              \t[596.]    \t[596.]    \n",
            "39 \t100   \t[596.]      \t[0.]              \t[596.]    \t[596.]    \n",
            "40 \t100   \t[596.]      \t[0.]              \t[596.]    \t[596.]    \n",
            "41 \t100   \t[596.]      \t[0.]              \t[596.]    \t[596.]    \n",
            "42 \t100   \t[596.]      \t[0.]              \t[596.]    \t[596.]    \n",
            "43 \t100   \t[596.]      \t[0.]              \t[596.]    \t[596.]    \n",
            "44 \t100   \t[596.]      \t[0.]              \t[596.]    \t[596.]    \n",
            "45 \t100   \t[596.]      \t[0.]              \t[596.]    \t[596.]    \n",
            "46 \t100   \t[596.]      \t[0.]              \t[596.]    \t[596.]    \n",
            "47 \t100   \t[596.]      \t[0.]              \t[596.]    \t[596.]    \n",
            "48 \t100   \t[596.]      \t[0.]              \t[596.]    \t[596.]    \n",
            "49 \t100   \t[596.]      \t[0.]              \t[596.]    \t[596.]    \n",
            "50 \t100   \t[596.]      \t[0.]              \t[596.]    \t[596.]    \n",
            "51 \t100   \t[596.]      \t[0.]              \t[596.]    \t[596.]    \n",
            "52 \t100   \t[596.]      \t[0.]              \t[596.]    \t[596.]    \n",
            "53 \t100   \t[596.]      \t[0.]              \t[596.]    \t[596.]    \n",
            "54 \t100   \t[596.]      \t[0.]              \t[596.]    \t[596.]    \n",
            "55 \t100   \t[596.]      \t[0.]              \t[596.]    \t[596.]    \n",
            "56 \t100   \t[596.]      \t[0.]              \t[596.]    \t[596.]    \n",
            "57 \t100   \t[596.]      \t[0.]              \t[596.]    \t[596.]    \n",
            "58 \t100   \t[595.12]    \t[6.16]            \t[552.]    \t[596.]    \n",
            "59 \t100   \t[592.48]    \t[11.93690077]     \t[552.]    \t[596.]    \n",
            "60 \t100   \t[588.96]    \t[16.13066645]     \t[552.]    \t[596.]    \n",
            "61 \t100   \t[582.8]     \t[20.16333306]     \t[552.]    \t[596.]    \n",
            "62 \t100   \t[574.]      \t[22.]             \t[552.]    \t[596.]    \n",
            "63 \t100   \t[561.68]    \t[18.22683736]     \t[552.]    \t[596.]    \n",
            "64 \t100   \t[553.76]    \t[8.62220389]      \t[552.]    \t[596.]    \n",
            "65 \t100   \t[552.]      \t[0.]              \t[552.]    \t[552.]    \n",
            "66 \t100   \t[550.38]    \t[11.34]           \t[471.]    \t[552.]    \n",
            "67 \t100   \t[547.14]    \t[19.23643418]     \t[471.]    \t[552.]    \n",
            "68 \t100   \t[545.52]    \t[21.97474915]     \t[471.]    \t[552.]    \n",
            "69 \t100   \t[547.14]    \t[19.23643418]     \t[471.]    \t[552.]    \n",
            "70 \t100   \t[539.04]    \t[29.6950905]      \t[471.]    \t[552.]    \n",
            "71 \t100   \t[530.94]    \t[35.52937376]     \t[471.]    \t[552.]    \n",
            "72 \t100   \t[526.08]    \t[37.78456828]     \t[471.]    \t[552.]    \n",
            "73 \t100   \t[498.54]    \t[38.37041047]     \t[471.]    \t[552.]    \n",
            "74 \t100   \t[479.1]     \t[24.3]            \t[471.]    \t[552.]    \n",
            "75 \t100   \t[471.]      \t[0.]              \t[471.]    \t[471.]    \n",
            "76 \t100   \t[471.]      \t[0.]              \t[471.]    \t[471.]    \n",
            "77 \t100   \t[471.]      \t[0.]              \t[471.]    \t[471.]    \n",
            "78 \t100   \t[471.]      \t[0.]              \t[471.]    \t[471.]    \n",
            "79 \t100   \t[471.]      \t[0.]              \t[471.]    \t[471.]    \n",
            "80 \t100   \t[40470.76]  \t[279998.32]       \t[471.]    \t[2000459.]\n",
            "81 \t100   \t[471.]      \t[0.]              \t[471.]    \t[471.]    \n",
            "82 \t100   \t[471.]      \t[0.]              \t[471.]    \t[471.]    \n",
            "83 \t100   \t[471.]      \t[0.]              \t[471.]    \t[471.]    \n",
            "84 \t100   \t[471.]      \t[0.]              \t[471.]    \t[471.]    \n",
            "85 \t100   \t[471.]      \t[0.]              \t[471.]    \t[471.]    \n",
            "86 \t100   \t[471.]      \t[0.]              \t[471.]    \t[471.]    \n",
            "87 \t100   \t[471.]      \t[0.]              \t[471.]    \t[471.]    \n",
            "88 \t100   \t[471.]      \t[0.]              \t[471.]    \t[471.]    \n",
            "89 \t100   \t[471.]      \t[0.]              \t[471.]    \t[471.]    \n",
            "90 \t100   \t[471.]      \t[0.]              \t[471.]    \t[471.]    \n",
            "91 \t100   \t[471.]      \t[0.]              \t[471.]    \t[471.]    \n",
            "92 \t100   \t[471.]      \t[0.]              \t[471.]    \t[471.]    \n",
            "93 \t100   \t[471.]      \t[0.]              \t[471.]    \t[471.]    \n",
            "94 \t100   \t[471.]      \t[0.]              \t[471.]    \t[471.]    \n",
            "95 \t100   \t[471.]      \t[0.]              \t[471.]    \t[471.]    \n",
            "96 \t100   \t[471.]      \t[0.]              \t[471.]    \t[471.]    \n",
            "97 \t100   \t[471.]      \t[0.]              \t[471.]    \t[471.]    \n",
            "98 \t100   \t[471.]      \t[0.]              \t[471.]    \t[471.]    \n",
            "99 \t100   \t[471.]      \t[0.]              \t[471.]    \t[471.]    \n",
            "100\t100   \t[471.]      \t[0.]              \t[471.]    \t[471.]    \n",
            "\n",
            "Rota: [0, 2, 4, 3, 9, 5, 1, 8, 6, 7] \n",
            "Custo: 471\n"
          ]
        }
      ],
      "source": [
        "#[5] Processamento do Algoritmo Genético\n",
        "\n",
        "# Definindo avaliação de aptidão, seleção, cruzamento e mutação \n",
        "toolbox.register(\"evaluate\", evalRoute)\n",
        "toolbox.register(\"select\", tools.selTournament, tournsize=3) # seleção por torneio\n",
        "toolbox.register(\"mate\", tools.cxOnePoint) # um ponto de cruzamento\n",
        "toolbox.register(\"mutate\", tools.mutUniformInt, low=0, up=numCities-1, indpb=0.05)\n",
        "\n",
        "def main():\n",
        "  print('Execução do algoritmo genético:')\n",
        "\n",
        "  # random.seed(64)\n",
        "  NGEN = 100     # número de gerações\n",
        "  MU = 50        # tamanho da população\n",
        "  LAMBDA = 100   # número de filhos gerados\n",
        "  CXPB = 0.7     # probabilidade de cruzamento\n",
        "  MUTPB = 0.3    # probabilidade de mutação\n",
        "  \n",
        "  pop = toolbox.population(n=MU)\n",
        "  hof = tools.ParetoFront()\n",
        "  stats = tools.Statistics(lambda ind: ind.fitness.values)\n",
        "  stats.register(\"avg\", numpy.mean, axis=0)\n",
        "  stats.register(\"std\", numpy.std, axis=0)\n",
        "  stats.register(\"min\", numpy.min, axis=0)\n",
        "  stats.register(\"max\", numpy.max, axis=0)\n",
        "  \n",
        "  algorithms.eaMuPlusLambda(pop, toolbox, MU, LAMBDA, CXPB, MUTPB, NGEN, stats,\n",
        "                            halloffame=hof)\n",
        "      \n",
        "  print('\\nRota:', hof[0],'\\nCusto:', evalRoute(hof[0])[0])\n",
        "  return pop, stats, hof\n",
        "                 \n",
        "if __name__ == \"__main__\":\n",
        "    main()"
      ]
    }
  ],
  "metadata": {
    "colab": {
      "include_colab_link": true,
      "provenance": []
    },
    "kernelspec": {
      "display_name": "Python 3",
      "name": "python3"
    }
  },
  "nbformat": 4,
  "nbformat_minor": 0
}
